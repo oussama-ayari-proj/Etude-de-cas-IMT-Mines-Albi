{
 "cells": [
  {
   "cell_type": "code",
   "id": "initial_id",
   "metadata": {
    "collapsed": true,
    "id": "initial_id",
    "ExecuteTime": {
     "end_time": "2024-11-25T03:15:28.611653Z",
     "start_time": "2024-11-25T03:15:28.604293Z"
    }
   },
   "source": [
    "import pandas as pd\n",
    "import numpy as np\n",
    "import re"
   ],
   "outputs": [],
   "execution_count": 30
  },
  {
   "cell_type": "code",
   "id": "4b66094c39f42a11",
   "metadata": {
    "id": "4b66094c39f42a11",
    "ExecuteTime": {
     "end_time": "2024-11-25T03:15:29.230824Z",
     "start_time": "2024-11-25T03:15:28.631484Z"
    }
   },
   "source": [
    "#Lecture du dictionnaire d'alignement\n",
    "dictNettoyage=pd.read_excel('data/Dict3-Ancien.xlsx',sheet_name=1)"
   ],
   "outputs": [],
   "execution_count": 31
  },
  {
   "cell_type": "code",
   "id": "240043252e507534",
   "metadata": {
    "id": "240043252e507534",
    "ExecuteTime": {
     "end_time": "2024-11-25T03:15:32.059490Z",
     "start_time": "2024-11-25T03:15:29.294881Z"
    }
   },
   "source": [
    "#Lecture des 3 fichiers données\n",
    "fichier1=pd.read_excel('data/fichier1.xlsx')\n",
    "fichier2=pd.read_excel('data/fichier2.xlsx')\n",
    "fichier3=pd.read_excel('data/fichier3.xlsx')"
   ],
   "outputs": [],
   "execution_count": 32
  },
  {
   "cell_type": "code",
   "id": "c92a60e657e8e6fd",
   "metadata": {
    "id": "c92a60e657e8e6fd",
    "ExecuteTime": {
     "end_time": "2024-11-25T03:15:32.129005Z",
     "start_time": "2024-11-25T03:15:32.112408Z"
    }
   },
   "source": [
    "#Suppresion des lignes de description\n",
    "fichier1.drop(axis=0,inplace=True,index=0)\n",
    "fichier2.drop(axis=0,inplace=True,index=0)\n",
    "fichier2.drop(axis=0,inplace=True,index=1)\n",
    "fichier3.drop(axis=0,inplace=True,index=0)\n",
    "fichier3.drop(axis=0,inplace=True,index=1)"
   ],
   "outputs": [],
   "execution_count": 33
  },
  {
   "cell_type": "code",
   "id": "19f8263599bb0885",
   "metadata": {
    "id": "19f8263599bb0885",
    "ExecuteTime": {
     "end_time": "2024-11-25T03:15:32.208331Z",
     "start_time": "2024-11-25T03:15:32.179589Z"
    }
   },
   "source": [
    "#Correction d'une imprecision au niveau du fichier 3 pour récupérer les moyennes de bac en mathématiques et physique (Car le fichier 3 stocke les notes des bacs en format du nouveau bac et les fichiers 1 et 2 contiennent des notes au format de l'ancien régime de bac)\n",
    "colonnesNotes=[['Baccalauréat.7','Baccalauréat.8'],['Baccalauréat.9','Baccalauréat.10'],['Baccalauréat.11','Baccalauréat.12']]\n",
    "matieresNotes=[\"Mathématiques\",\"Physique-chimie\"]\n",
    "res={}\n",
    "for m in matieresNotes:\n",
    "    res[m]=[]\n",
    "    for col in colonnesNotes:\n",
    "        nom=col[0]\n",
    "        note=col[1]\n",
    "        rows=fichier3[fichier3[col[0]]==m][col[1]]\n",
    "        for i in rows.index:\n",
    "            res[m].append([i,note])\n",
    "colMath='Baccalauréat.14'\n",
    "colPhys='Baccalauréat.15'\n",
    "for key in res.keys():\n",
    "    for couple in res[key]:\n",
    "        i=couple[0]\n",
    "        col=couple[1]\n",
    "        if key == \"Mathématiques\":\n",
    "            fichier3.loc[i,colMath]=fichier3.loc[i,col]\n",
    "        else:\n",
    "            fichier3.loc[i,colPhys]=fichier3.loc[i,col]"
   ],
   "outputs": [],
   "execution_count": 34
  },
  {
   "cell_type": "code",
   "id": "c1ad96f35a7f2cee",
   "metadata": {
    "id": "c1ad96f35a7f2cee",
    "ExecuteTime": {
     "end_time": "2024-11-25T03:15:32.264883Z",
     "start_time": "2024-11-25T03:15:32.258730Z"
    }
   },
   "source": [
    "#Suppression des anciennes colonnes\n",
    "fichier3.drop(columns=[x for l in colonnesNotes for x in l ],inplace=True)"
   ],
   "outputs": [],
   "execution_count": 35
  },
  {
   "cell_type": "code",
   "id": "3eaf6551ec353f01",
   "metadata": {
    "id": "3eaf6551ec353f01",
    "ExecuteTime": {
     "end_time": "2024-11-25T03:15:33.962842Z",
     "start_time": "2024-11-25T03:15:32.313368Z"
    }
   },
   "source": [
    "#Pour tester\n",
    "fichier3.to_excel(\"data/ANOM3.xlsx\")"
   ],
   "outputs": [],
   "execution_count": 36
  },
  {
   "cell_type": "code",
   "id": "3ff974ff0cf1306e",
   "metadata": {
    "id": "3ff974ff0cf1306e",
    "ExecuteTime": {
     "end_time": "2024-11-25T03:15:34.282354Z",
     "start_time": "2024-11-25T03:15:34.010830Z"
    }
   },
   "source": [
    "#Fusion des 3 fichiers\n",
    "n=len(fichier1)+len(fichier2)+len(fichier3)\n",
    "#Pour un gain en performance, on a choisi d'utiliser un dictionnaire comme structure de données pour que les operations de fusions des 3 fichiers ne coutent pas trop chérs\n",
    "hashMap={}\n",
    "\n",
    "for row in dictNettoyage.itertuples():\n",
    "    colFinal=row[1]\n",
    "    colFichier1=row[2]\n",
    "    colFichier2=row[3]\n",
    "    colFichier3=row[4]\n",
    "    if colFinal==\"0\":\n",
    "        continue\n",
    "    hashMap[colFinal]=[]# initialisation de la colonne avec une liste vide\n",
    "    if colFichier1 in fichier1.columns:\n",
    "        hashMap[colFinal].append(fichier1[colFichier1].astype(str)) # On ajoute la colonne tel qu'elle est mais convertie en type str, car n'importe quel type peut se convertir en str\n",
    "    elif not colFichier1 in fichier1.columns:\n",
    "        nan_arr=np.empty(len(fichier1))\n",
    "        nan_arr[:]=np.nan\n",
    "        hashMap[colFinal].append(nan_arr) # Sinon On ajoute une colonne vide du même taille que le fichier concérné\n",
    "    if colFichier2 in fichier2.columns:# De même pour le fichier 2\n",
    "        hashMap[colFinal].append(fichier2[colFichier2].astype(str))\n",
    "    if not colFichier2 in fichier2.columns :\n",
    "        nan_arr=np.empty(len(fichier2))\n",
    "        nan_arr[:]=np.nan\n",
    "        hashMap[colFinal].append(nan_arr)\n",
    "    if colFichier3 in fichier3.columns:# De même pour le fichier 3\n",
    "        hashMap[colFinal].append(fichier3[colFichier3].astype(str))\n",
    "    if not colFichier3 in fichier3.columns :\n",
    "        nan_arr=np.empty(len(fichier3))\n",
    "        nan_arr[:]=np.nan\n",
    "        hashMap[colFinal].append(nan_arr)\n",
    "    #Jusqu'ici on aura une liste de 3 éléments où chaque élément contient les valeurs qui viennent de chaque fichier respectives\n",
    "    hashMap[colFinal]=[x for l in hashMap[colFinal] for x in l] #Donc à la fin on \"unpack\" ou décompresse la liste"
   ],
   "outputs": [],
   "execution_count": 37
  },
  {
   "cell_type": "code",
   "id": "61a49d11307dd51a",
   "metadata": {
    "id": "61a49d11307dd51a",
    "ExecuteTime": {
     "end_time": "2024-11-25T03:15:34.336382Z",
     "start_time": "2024-11-25T03:15:34.329862Z"
    }
   },
   "source": [
    "#On implémente une fonction qui parcours tout notre dictionnaire et nous retourne un autre dictionnaire qui contient les types de valeurs de chaque colonnes\n",
    "def compterTypes(data):\n",
    "    allTypes={}\n",
    "    float_or_int_regex = r'^-?\\d+(\\.\\d+)?$' #Pour chercher les valeurs numériques\n",
    "    bool_regex = r'^(True|False)$' #Pour chercher les valeurs booléens\n",
    "    for col in data.keys():\n",
    "        valeurs_uniques=np.unique(data[col]) # On obtient juste les valeurs qui compose la colonne\n",
    "        allTypes[col]=set() # Pour stocker les types on utilise un set pour qu'on aura pas des duplicats\n",
    "        for val in valeurs_uniques:\n",
    "            if val == 'nan' or val==\"nan\" or val==np.nan:\n",
    "                continue\n",
    "            if re.match(float_or_int_regex, str(val)):\n",
    "                allTypes[col].add(\"numeric\")\n",
    "            elif re.match(bool_regex, str(val)):\n",
    "                allTypes[col].add(\"bool\")\n",
    "            else :\n",
    "                allTypes[col].add(\"string\")\n",
    "    return allTypes"
   ],
   "outputs": [],
   "execution_count": 38
  },
  {
   "cell_type": "code",
   "id": "ceef57d71f30ed50",
   "metadata": {
    "id": "ceef57d71f30ed50",
    "ExecuteTime": {
     "end_time": "2024-11-25T03:15:34.390626Z",
     "start_time": "2024-11-25T03:15:34.385272Z"
    }
   },
   "source": [
    "#On implemente une fonction qui ne retourne une liste des colonnes qu'on doit modifier pour qu'ils soient de termes homogénes \n",
    "def compterAModifiers(data):\n",
    "    allTypes=compterTypes(data)\n",
    "    aModifier=[]\n",
    "    for key in allTypes.keys():\n",
    "        if len(allTypes[key])>1:\n",
    "            aModifier.append(key)\n",
    "    return aModifier"
   ],
   "outputs": [],
   "execution_count": 39
  },
  {
   "cell_type": "code",
   "id": "f4b23b9a4e0d47d0",
   "metadata": {
    "id": "f4b23b9a4e0d47d0",
    "ExecuteTime": {
     "end_time": "2024-11-25T03:15:34.448248Z",
     "start_time": "2024-11-25T03:15:34.442774Z"
    }
   },
   "source": [
    "#On implémente une fonction pour nous afficher les colonnes qui sont hétérogénes et contiennes des valeur booléens ainsi que des chaines de charactéres ou bien booléens ainsi que des numériques\n",
    "def compterAIntervenir(data):\n",
    "    aModifier=compterAModifiers(data)\n",
    "    allTypes=compterTypes(data)\n",
    "    for key in aModifier:\n",
    "        if len(allTypes[key])>1 and allTypes[key]!={'string','numeric'}:\n",
    "            print(key,allTypes[key],np.unique(data[key]))"
   ],
   "outputs": [],
   "execution_count": 40
  },
  {
   "cell_type": "code",
   "id": "79090254766bfe9d",
   "metadata": {
    "id": "79090254766bfe9d",
    "colab": {
     "base_uri": "https://localhost:8080/"
    },
    "outputId": "e0fe65a1-718b-4849-cf0d-71523f819419",
    "ExecuteTime": {
     "end_time": "2024-11-25T03:15:34.953836Z",
     "start_time": "2024-11-25T03:15:34.501436Z"
    }
   },
   "source": "compterAIntervenir(hashMap)#Affichage des colonnes qui necessicitent une intervention manuelle",
   "outputs": [
    {
     "name": "stdout",
     "output_type": "stream",
     "text": [
      "Genre {'bool', 'string'} ['False' 'True' 'f' 'm' 'o']\n",
      "Experience_entreprise_1 {'bool', 'string'} ['False' 'OUI' 'True' 'nan' 'non' 'oui']\n",
      "Experience_entreprise_2 {'bool', 'string'} ['False' 'OUI' 'True' 'nan' 'non' 'oui']\n",
      "Experience_entreprise_3 {'bool', 'string'} ['False' 'OUI' 'True' 'nan' 'non' 'oui']\n"
     ]
    }
   ],
   "execution_count": 41
  },
  {
   "cell_type": "code",
   "id": "31be25a0deb8c738",
   "metadata": {
    "id": "31be25a0deb8c738",
    "ExecuteTime": {
     "end_time": "2024-11-25T03:15:35.012208Z",
     "start_time": "2024-11-25T03:15:35.006800Z"
    }
   },
   "source": [
    "#Correction de la colonne 'Genre' dans le dictionnaire fusioné\n",
    "listGenre=hashMap['Genre']\n",
    "for i in range(len(listGenre)):\n",
    "    if listGenre[i]=='True' or listGenre[i]=='m':\n",
    "        listGenre[i]=1\n",
    "    elif listGenre[i]=='False' or listGenre[i]=='f':\n",
    "        listGenre[i]=0\n",
    "    elif listGenre[i]=='o':\n",
    "        listGenre[i]=2\n",
    "hashMap['Genre']=listGenre"
   ],
   "outputs": [],
   "execution_count": 42
  },
  {
   "cell_type": "code",
   "id": "e3b9d088e86be4d9",
   "metadata": {
    "id": "e3b9d088e86be4d9",
    "colab": {
     "base_uri": "https://localhost:8080/"
    },
    "outputId": "38f6a9bd-d77d-4d54-b437-d3a238873d76",
    "ExecuteTime": {
     "end_time": "2024-11-25T03:15:35.521189Z",
     "start_time": "2024-11-25T03:15:35.058774Z"
    }
   },
   "source": [
    "#Vérification de la correction\n",
    "compterAIntervenir(hashMap)"
   ],
   "outputs": [
    {
     "name": "stdout",
     "output_type": "stream",
     "text": [
      "Experience_entreprise_1 {'bool', 'string'} ['False' 'OUI' 'True' 'nan' 'non' 'oui']\n",
      "Experience_entreprise_2 {'bool', 'string'} ['False' 'OUI' 'True' 'nan' 'non' 'oui']\n",
      "Experience_entreprise_3 {'bool', 'string'} ['False' 'OUI' 'True' 'nan' 'non' 'oui']\n"
     ]
    }
   ],
   "execution_count": 43
  },
  {
   "cell_type": "code",
   "source": [
    "#Pour Test\n",
    "np.unique(hashMap['Boursier'])"
   ],
   "metadata": {
    "colab": {
     "base_uri": "https://localhost:8080/"
    },
    "id": "cQpLXEbK-yfw",
    "outputId": "704321a6-493a-40e1-d1bd-4479cb21a865",
    "ExecuteTime": {
     "end_time": "2024-11-25T03:15:35.582411Z",
     "start_time": "2024-11-25T03:15:35.574539Z"
    }
   },
   "id": "cQpLXEbK-yfw",
   "outputs": [
    {
     "data": {
      "text/plain": [
       "array(['False', 'True'], dtype='<U5')"
      ]
     },
     "execution_count": 44,
     "metadata": {},
     "output_type": "execute_result"
    }
   ],
   "execution_count": 44
  },
  {
   "cell_type": "code",
   "id": "1362ea4f677c7c18",
   "metadata": {
    "id": "1362ea4f677c7c18",
    "ExecuteTime": {
     "end_time": "2024-11-25T03:15:35.636600Z",
     "start_time": "2024-11-25T03:15:35.630365Z"
    }
   },
   "source": [
    "#On implémente une fonction pour corriger une colonne d'experience\n",
    "def reparerExperience(l):\n",
    "    n = len(l)\n",
    "    for i in range(n):\n",
    "        if l[i]=='OUI' or l[i]=='oui':\n",
    "            l[i]='True'\n",
    "        elif l[i]=='non':\n",
    "            l[i]='False'\n",
    "    return l"
   ],
   "outputs": [],
   "execution_count": 45
  },
  {
   "cell_type": "code",
   "id": "ccaf8d9e3010f339",
   "metadata": {
    "id": "ccaf8d9e3010f339",
    "ExecuteTime": {
     "end_time": "2024-11-25T03:15:35.685594Z",
     "start_time": "2024-11-25T03:15:35.679600Z"
    }
   },
   "source": [
    "#On fait un parcours des colonnes experiences et on les corrige tous\n",
    "colonnes=['Experience_entreprise_1','Experience_entreprise_2','Experience_entreprise_3']\n",
    "for col in colonnes:\n",
    "    hashMap[col]=reparerExperience(hashMap[col])"
   ],
   "outputs": [],
   "execution_count": 46
  },
  {
   "cell_type": "code",
   "id": "a42090e7ab0d088",
   "metadata": {
    "id": "a42090e7ab0d088",
    "ExecuteTime": {
     "end_time": "2024-11-25T03:15:36.187912Z",
     "start_time": "2024-11-25T03:15:35.730631Z"
    }
   },
   "source": [
    "#Vérification des corrections\n",
    "compterAIntervenir(hashMap)"
   ],
   "outputs": [],
   "execution_count": 47
  },
  {
   "cell_type": "code",
   "id": "8b9f8c5720be6235",
   "metadata": {
    "id": "8b9f8c5720be6235",
    "ExecuteTime": {
     "end_time": "2024-11-25T03:15:36.498202Z",
     "start_time": "2024-11-25T03:15:36.238009Z"
    }
   },
   "source": [
    "#Remplacer les valeurs boléens qui sont stockés comme étant des chaines de charactéres en des vrais booléens\n",
    "allTypes=compterTypes(hashMap)\n",
    "for key in allTypes.keys():\n",
    "    if allTypes[key]=={'bool'}:\n",
    "      for i in range(len(hashMap[key])):\n",
    "        if hashMap[key][i]=='True':\n",
    "          hashMap[key][i]=True\n",
    "        elif hashMap[key][i]=='False':\n",
    "          hashMap[key][i]=False"
   ],
   "outputs": [],
   "execution_count": 48
  },
  {
   "cell_type": "code",
   "source": [
    "#Conversion du dictionnaire en DataFrame\n",
    "dfTotal=pd.DataFrame(hashMap)"
   ],
   "metadata": {
    "id": "qnC0rqBkd-vh",
    "ExecuteTime": {
     "end_time": "2024-11-25T03:15:36.635872Z",
     "start_time": "2024-11-25T03:15:36.562565Z"
    }
   },
   "id": "qnC0rqBkd-vh",
   "outputs": [],
   "execution_count": 49
  },
  {
   "cell_type": "code",
   "id": "2198017f60aa4db1",
   "metadata": {
    "id": "2198017f60aa4db1",
    "ExecuteTime": {
     "end_time": "2024-11-25T03:15:36.691596Z",
     "start_time": "2024-11-25T03:15:36.685460Z"
    }
   },
   "source": [
    "#On implémente une fonction pour nettoyer les nom des villes pour que ce soit facile à comparer avec les villes dans les autres bases de données\n",
    "def clean_ville(ville):\n",
    "    return re.sub(r'[^a-zA-Z]', '', str(ville)).strip().lower()\n",
    "#On appelle cette fonction sur la colonne Ville_habitation\n",
    "dfTotal['Ville_habitation'] = dfTotal['Ville_habitation'].apply(lambda x: clean_ville(x))"
   ],
   "outputs": [],
   "execution_count": 50
  },
  {
   "cell_type": "code",
   "id": "e0802391dcd94449",
   "metadata": {
    "id": "e0802391dcd94449",
    "ExecuteTime": {
     "end_time": "2024-11-25T03:15:36.818951Z",
     "start_time": "2024-11-25T03:15:36.743898Z"
    }
   },
   "source": [
    "#On charge la base des codes postales qui contient tous les villes de la france\n",
    "cities=pd.read_csv('data/cities-Grand.csv',encoding='latin-1',sep=';')"
   ],
   "outputs": [],
   "execution_count": 51
  },
  {
   "cell_type": "code",
   "id": "sdiBkOThemdv",
   "metadata": {
    "id": "sdiBkOThemdv",
    "ExecuteTime": {
     "end_time": "2024-11-25T03:15:37.182475Z",
     "start_time": "2024-11-25T03:15:36.872691Z"
    }
   },
   "source": [
    "#On change le nom de la colonne sur la base cities pour que ça soit le même \n",
    "cities = cities.rename(columns={'Nom_de_la_commune': 'Ville_habitation'})\n",
    "cities['Ville_habitation'] = cities['Ville_habitation'].apply(lambda x: clean_ville(x))\n",
    "ville_to_code_postal = dict(zip(cities['Ville_habitation'], cities['Code_postal']))\n",
    "\n",
    "for index, row in dfTotal.iterrows():\n",
    "    if pd.isnull(row['Code_Postale_Habitation']) or row['Code_Postale_Habitation'] == '':  # Vérifier si la valeur est nulle ou vide\n",
    "        ville = clean_ville(row['Ville_habitation'])\n",
    "        if ville in ville_to_code_postal:\n",
    "          dfTotal.loc[index, 'Code_Postale_Habitation'] = ville_to_code_postal[ville]\n",
    "        elif clean_ville(dfTotal.loc[index, 'Ville_annee_N']) in ville_to_code_postal:\n",
    "          dfTotal.loc[index, 'Code_Postale_Habitation'] = ville_to_code_postal[clean_ville(dfTotal.loc[index, 'Ville_annee_N'])]"
   ],
   "outputs": [],
   "execution_count": 52
  },
  {
   "cell_type": "code",
   "source": [
    "#Remplacer les valeurs 'nan' par des vrais nan\n",
    "pd.set_option('future.no_silent_downcasting', True)\n",
    "dfTotal = dfTotal.replace('nan', np.nan)"
   ],
   "metadata": {
    "colab": {
     "base_uri": "https://localhost:8080/"
    },
    "id": "5IicW1YsxfdO",
    "outputId": "76b3883b-359f-4fa6-ff8e-43d6bddef278",
    "ExecuteTime": {
     "end_time": "2024-11-25T03:15:37.278476Z",
     "start_time": "2024-11-25T03:15:37.233724Z"
    }
   },
   "id": "5IicW1YsxfdO",
   "outputs": [],
   "execution_count": 53
  },
  {
   "cell_type": "code",
   "source": [
    "#Charger la base de données des villes avec les longitude/latitude\n",
    "cities_Lat_Long = pd.read_csv('data/cities.csv')"
   ],
   "metadata": {
    "id": "i-7kcYqZzLFZ",
    "ExecuteTime": {
     "end_time": "2024-11-25T03:15:37.441316Z",
     "start_time": "2024-11-25T03:15:37.327792Z"
    }
   },
   "id": "i-7kcYqZzLFZ",
   "outputs": [],
   "execution_count": 54
  },
  {
   "cell_type": "code",
   "source": [
    "cities_Lat_Long['zip_code']=cities_Lat_Long['zip_code'].astype(str)"
   ],
   "metadata": {
    "id": "_goOTNTxFUJ6",
    "ExecuteTime": {
     "end_time": "2024-11-25T03:15:37.505870Z",
     "start_time": "2024-11-25T03:15:37.488959Z"
    }
   },
   "id": "_goOTNTxFUJ6",
   "outputs": [],
   "execution_count": 55
  },
  {
   "cell_type": "code",
   "source": [
    "#Inserer les nouvelles valeurs\n",
    "dfTotal.insert(0, 'Latitude_ville_habitation', dfTotal['Code_Postale_Habitation'].apply(lambda x: cities_Lat_Long[cities_Lat_Long['zip_code'] == str(x)]['latitude'].values[0] if str(x) in cities_Lat_Long['zip_code'].values else np.nan))\n",
    "dfTotal.insert(0, 'Longitude_ville_habitation', dfTotal['Code_Postale_Habitation'].apply(lambda x: cities_Lat_Long[cities_Lat_Long['zip_code'] == str(x)]['longitude'].values[0] if str(x) in cities_Lat_Long['zip_code'].values else np.nan))"
   ],
   "metadata": {
    "id": "_rpyCPRmyXUT",
    "colab": {
     "base_uri": "https://localhost:8080/"
    },
    "outputId": "4ca22e2f-4dc3-4453-e0a8-ca626af46a87",
    "ExecuteTime": {
     "end_time": "2024-11-25T03:15:44.995373Z",
     "start_time": "2024-11-25T03:15:37.574122Z"
    }
   },
   "id": "_rpyCPRmyXUT",
   "outputs": [],
   "execution_count": 56
  },
  {
   "cell_type": "code",
   "source": [
    "dfTotal.drop(columns=['Ville_habitation'],inplace=True)"
   ],
   "metadata": {
    "id": "0II_LsBie1oC",
    "ExecuteTime": {
     "end_time": "2024-11-25T03:15:45.048Z",
     "start_time": "2024-11-25T03:15:45.037072Z"
    }
   },
   "id": "0II_LsBie1oC",
   "outputs": [],
   "execution_count": 57
  },
  {
   "metadata": {
    "ExecuteTime": {
     "end_time": "2024-11-25T03:15:48.429982Z",
     "start_time": "2024-11-25T03:15:45.099402Z"
    }
   },
   "cell_type": "code",
   "source": [
    "#Installation du package geopy\n",
    "!pip install geopy"
   ],
   "id": "1db14e0342fcd569",
   "outputs": [
    {
     "name": "stdout",
     "output_type": "stream",
     "text": [
      "Requirement already satisfied: geopy in c:\\users\\oussama\\miniconda3\\lib\\site-packages (2.4.1)\n",
      "Requirement already satisfied: geographiclib<3,>=1.52 in c:\\users\\oussama\\miniconda3\\lib\\site-packages (from geopy) (2.0)\n"
     ]
    }
   ],
   "execution_count": 58
  },
  {
   "cell_type": "code",
   "source": [
    "from geopy.distance import geodesic\n",
    "\n",
    "coords_albi = (43.9276, 2.1468)\n",
    "\n",
    "def calculer_distance(row):\n",
    "    if pd.notnull(row['Latitude_ville_habitation']) and pd.notnull(row['Longitude_ville_habitation']):\n",
    "        coords_etudiant = (row['Latitude_ville_habitation'], row['Longitude_ville_habitation'])\n",
    "        return geodesic(coords_albi, coords_etudiant).km\n",
    "    return None\n",
    "\n",
    "dfTotal['Distance_Albi_km'] = dfTotal.apply(calculer_distance, axis=1)\n",
    "dfTotal.head()\n"
   ],
   "metadata": {
    "colab": {
     "base_uri": "https://localhost:8080/",
     "height": 394
    },
    "id": "o_P9ClvH1SsP",
    "outputId": "41a1fd83-04ab-45ff-aff1-b3979df5c7c8",
    "ExecuteTime": {
     "end_time": "2024-11-25T03:15:48.885453Z",
     "start_time": "2024-11-25T03:15:48.500335Z"
    }
   },
   "id": "o_P9ClvH1SsP",
   "outputs": [
    {
     "data": {
      "text/plain": [
       "   Longitude_ville_habitation  Latitude_ville_habitation  Genre  Boursier  \\\n",
       "0                    2.289706                  49.900410      1      True   \n",
       "1                         NaN                        NaN      0     False   \n",
       "2                    0.066151                  43.234659      1     False   \n",
       "3                    5.398630                  43.536112      1     False   \n",
       "4                    1.432095                  43.596038      1     False   \n",
       "\n",
       "   Tiers_Temps Code_Postale_Habitation  Dossier_Non_Valide_pour_apprentissage  \\\n",
       "0        False                   80090                                  False   \n",
       "1        False                     NaN                                  False   \n",
       "2        False                   65000                                  False   \n",
       "3        False                   13540                                  False   \n",
       "4        False                   31500                                  False   \n",
       "\n",
       "  Etat_dossier_inscription                       Nom_dernier_Diplome_fait  \\\n",
       "0                   Valide       DUT Génie mécanique et productique (GMP)   \n",
       "1                   Valide                                  Autre diplôme   \n",
       "2                   Valide       DUT Génie mécanique et productique (GMP)   \n",
       "3                   Valide       DUT Génie mécanique et productique (GMP)   \n",
       "4                   Valide  DUT Génie chimique, génie des procédés (GCGP)   \n",
       "\n",
       "   bac_francais  ... Formation_Mines_ParisTech_Energetique  \\\n",
       "0          True  ...                                   non   \n",
       "1          True  ...                                   non   \n",
       "2          True  ...                                   non   \n",
       "3          True  ...                                   non   \n",
       "4          True  ...                                   non   \n",
       "\n",
       "  Formation_ENSSAT_Informatique_Multimedia_Reseaux  \\\n",
       "0                                              non   \n",
       "1                                              non   \n",
       "2                                              non   \n",
       "3                                              non   \n",
       "4                                              non   \n",
       "\n",
       "  Formation_ENSSAT_Informatique_photonique  \\\n",
       "0                                      NaN   \n",
       "1                                      NaN   \n",
       "2                                      NaN   \n",
       "3                                      NaN   \n",
       "4                                      NaN   \n",
       "\n",
       "  Formation_SIGMA_Mecanique_Genie_Industriel  \\\n",
       "0                                        non   \n",
       "1                               Non convoqué   \n",
       "2                                        non   \n",
       "3                                 Admissible   \n",
       "4                                        non   \n",
       "\n",
       "  Formation_Telecom_Physique_Strasbourg_Electronique_Informatique_Industrielle  \\\n",
       "0                                                non                             \n",
       "1                                                non                             \n",
       "2                                                non                             \n",
       "3                                                non                             \n",
       "4                                                non                             \n",
       "\n",
       "  Formation_Telecom_sainté_data Formation_Telecom_sainté_image_photonique  \\\n",
       "0                           NaN                                       NaN   \n",
       "1                           NaN                                       NaN   \n",
       "2                           NaN                                       NaN   \n",
       "3                           NaN                                       NaN   \n",
       "4                           NaN                                       NaN   \n",
       "\n",
       "  Formation_ET0215_1 Formation_ET0215_2 Distance_Albi_km  \n",
       "0                non                non       664.080844  \n",
       "1                non                non              NaN  \n",
       "2                non                non       184.838994  \n",
       "3                non                non       265.556518  \n",
       "4                non                non        68.332735  \n",
       "\n",
       "[5 rows x 309 columns]"
      ],
      "text/html": [
       "<div>\n",
       "<style scoped>\n",
       "    .dataframe tbody tr th:only-of-type {\n",
       "        vertical-align: middle;\n",
       "    }\n",
       "\n",
       "    .dataframe tbody tr th {\n",
       "        vertical-align: top;\n",
       "    }\n",
       "\n",
       "    .dataframe thead th {\n",
       "        text-align: right;\n",
       "    }\n",
       "</style>\n",
       "<table border=\"1\" class=\"dataframe\">\n",
       "  <thead>\n",
       "    <tr style=\"text-align: right;\">\n",
       "      <th></th>\n",
       "      <th>Longitude_ville_habitation</th>\n",
       "      <th>Latitude_ville_habitation</th>\n",
       "      <th>Genre</th>\n",
       "      <th>Boursier</th>\n",
       "      <th>Tiers_Temps</th>\n",
       "      <th>Code_Postale_Habitation</th>\n",
       "      <th>Dossier_Non_Valide_pour_apprentissage</th>\n",
       "      <th>Etat_dossier_inscription</th>\n",
       "      <th>Nom_dernier_Diplome_fait</th>\n",
       "      <th>bac_francais</th>\n",
       "      <th>...</th>\n",
       "      <th>Formation_Mines_ParisTech_Energetique</th>\n",
       "      <th>Formation_ENSSAT_Informatique_Multimedia_Reseaux</th>\n",
       "      <th>Formation_ENSSAT_Informatique_photonique</th>\n",
       "      <th>Formation_SIGMA_Mecanique_Genie_Industriel</th>\n",
       "      <th>Formation_Telecom_Physique_Strasbourg_Electronique_Informatique_Industrielle</th>\n",
       "      <th>Formation_Telecom_sainté_data</th>\n",
       "      <th>Formation_Telecom_sainté_image_photonique</th>\n",
       "      <th>Formation_ET0215_1</th>\n",
       "      <th>Formation_ET0215_2</th>\n",
       "      <th>Distance_Albi_km</th>\n",
       "    </tr>\n",
       "  </thead>\n",
       "  <tbody>\n",
       "    <tr>\n",
       "      <th>0</th>\n",
       "      <td>2.289706</td>\n",
       "      <td>49.900410</td>\n",
       "      <td>1</td>\n",
       "      <td>True</td>\n",
       "      <td>False</td>\n",
       "      <td>80090</td>\n",
       "      <td>False</td>\n",
       "      <td>Valide</td>\n",
       "      <td>DUT Génie mécanique et productique (GMP)</td>\n",
       "      <td>True</td>\n",
       "      <td>...</td>\n",
       "      <td>non</td>\n",
       "      <td>non</td>\n",
       "      <td>NaN</td>\n",
       "      <td>non</td>\n",
       "      <td>non</td>\n",
       "      <td>NaN</td>\n",
       "      <td>NaN</td>\n",
       "      <td>non</td>\n",
       "      <td>non</td>\n",
       "      <td>664.080844</td>\n",
       "    </tr>\n",
       "    <tr>\n",
       "      <th>1</th>\n",
       "      <td>NaN</td>\n",
       "      <td>NaN</td>\n",
       "      <td>0</td>\n",
       "      <td>False</td>\n",
       "      <td>False</td>\n",
       "      <td>NaN</td>\n",
       "      <td>False</td>\n",
       "      <td>Valide</td>\n",
       "      <td>Autre diplôme</td>\n",
       "      <td>True</td>\n",
       "      <td>...</td>\n",
       "      <td>non</td>\n",
       "      <td>non</td>\n",
       "      <td>NaN</td>\n",
       "      <td>Non convoqué</td>\n",
       "      <td>non</td>\n",
       "      <td>NaN</td>\n",
       "      <td>NaN</td>\n",
       "      <td>non</td>\n",
       "      <td>non</td>\n",
       "      <td>NaN</td>\n",
       "    </tr>\n",
       "    <tr>\n",
       "      <th>2</th>\n",
       "      <td>0.066151</td>\n",
       "      <td>43.234659</td>\n",
       "      <td>1</td>\n",
       "      <td>False</td>\n",
       "      <td>False</td>\n",
       "      <td>65000</td>\n",
       "      <td>False</td>\n",
       "      <td>Valide</td>\n",
       "      <td>DUT Génie mécanique et productique (GMP)</td>\n",
       "      <td>True</td>\n",
       "      <td>...</td>\n",
       "      <td>non</td>\n",
       "      <td>non</td>\n",
       "      <td>NaN</td>\n",
       "      <td>non</td>\n",
       "      <td>non</td>\n",
       "      <td>NaN</td>\n",
       "      <td>NaN</td>\n",
       "      <td>non</td>\n",
       "      <td>non</td>\n",
       "      <td>184.838994</td>\n",
       "    </tr>\n",
       "    <tr>\n",
       "      <th>3</th>\n",
       "      <td>5.398630</td>\n",
       "      <td>43.536112</td>\n",
       "      <td>1</td>\n",
       "      <td>False</td>\n",
       "      <td>False</td>\n",
       "      <td>13540</td>\n",
       "      <td>False</td>\n",
       "      <td>Valide</td>\n",
       "      <td>DUT Génie mécanique et productique (GMP)</td>\n",
       "      <td>True</td>\n",
       "      <td>...</td>\n",
       "      <td>non</td>\n",
       "      <td>non</td>\n",
       "      <td>NaN</td>\n",
       "      <td>Admissible</td>\n",
       "      <td>non</td>\n",
       "      <td>NaN</td>\n",
       "      <td>NaN</td>\n",
       "      <td>non</td>\n",
       "      <td>non</td>\n",
       "      <td>265.556518</td>\n",
       "    </tr>\n",
       "    <tr>\n",
       "      <th>4</th>\n",
       "      <td>1.432095</td>\n",
       "      <td>43.596038</td>\n",
       "      <td>1</td>\n",
       "      <td>False</td>\n",
       "      <td>False</td>\n",
       "      <td>31500</td>\n",
       "      <td>False</td>\n",
       "      <td>Valide</td>\n",
       "      <td>DUT Génie chimique, génie des procédés (GCGP)</td>\n",
       "      <td>True</td>\n",
       "      <td>...</td>\n",
       "      <td>non</td>\n",
       "      <td>non</td>\n",
       "      <td>NaN</td>\n",
       "      <td>non</td>\n",
       "      <td>non</td>\n",
       "      <td>NaN</td>\n",
       "      <td>NaN</td>\n",
       "      <td>non</td>\n",
       "      <td>non</td>\n",
       "      <td>68.332735</td>\n",
       "    </tr>\n",
       "  </tbody>\n",
       "</table>\n",
       "<p>5 rows × 309 columns</p>\n",
       "</div>"
      ]
     },
     "execution_count": 59,
     "metadata": {},
     "output_type": "execute_result"
    }
   ],
   "execution_count": 59
  },
  {
   "cell_type": "code",
   "source": [
    "dfTotal_numeric_bool = dfTotal.select_dtypes(include=[np.number,np.bool_])"
   ],
   "metadata": {
    "id": "PMTpZ2Kzumkg",
    "ExecuteTime": {
     "end_time": "2024-11-25T03:15:48.948529Z",
     "start_time": "2024-11-25T03:15:48.940169Z"
    }
   },
   "id": "PMTpZ2Kzumkg",
   "outputs": [],
   "execution_count": 60
  },
  {
   "cell_type": "code",
   "source": [
    "dfTotal.to_excel(\"data/BDTotal-Test.xlsx\")"
   ],
   "metadata": {
    "id": "1YdhoMV30tmo",
    "ExecuteTime": {
     "end_time": "2024-11-25T03:15:56.024465Z",
     "start_time": "2024-11-25T03:15:48.956654Z"
    }
   },
   "id": "1YdhoMV30tmo",
   "outputs": [],
   "execution_count": 61
  }
 ],
 "metadata": {
  "colab": {
   "provenance": []
  },
  "kernelspec": {
   "display_name": "Python 3",
   "language": "python",
   "name": "python3"
  },
  "language_info": {
   "codemirror_mode": {
    "name": "ipython",
    "version": 2
   },
   "file_extension": ".py",
   "mimetype": "text/x-python",
   "name": "python",
   "nbconvert_exporter": "python",
   "pygments_lexer": "ipython2",
   "version": "2.7.6"
  }
 },
 "nbformat": 4,
 "nbformat_minor": 5
}
