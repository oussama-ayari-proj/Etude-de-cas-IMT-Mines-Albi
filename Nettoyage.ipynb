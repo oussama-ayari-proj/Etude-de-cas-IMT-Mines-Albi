{
 "cells": [
  {
   "cell_type": "code",
   "id": "initial_id",
   "metadata": {
    "collapsed": true,
    "ExecuteTime": {
     "end_time": "2024-11-13T13:23:04.883980Z",
     "start_time": "2024-11-13T13:23:02.080267Z"
    }
   },
   "source": [
    "import pandas as pd\n",
    "import numpy as np\n",
    "import re\n",
    "import seaborn as sns"
   ],
   "outputs": [],
   "execution_count": 21
  },
  {
   "metadata": {
    "ExecuteTime": {
     "end_time": "2024-11-13T13:18:34.911574Z",
     "start_time": "2024-11-13T13:18:34.026022Z"
    }
   },
   "cell_type": "code",
   "source": "dictNettoyage=pd.read_excel('data/Dict3.xlsx',sheet_name=1)",
   "id": "4b66094c39f42a11",
   "outputs": [],
   "execution_count": 2
  },
  {
   "metadata": {
    "ExecuteTime": {
     "end_time": "2024-11-13T13:18:44.798644Z",
     "start_time": "2024-11-13T13:18:42.422794Z"
    }
   },
   "cell_type": "code",
   "source": [
    "fichier1=pd.read_excel('data/fichier1.xlsx')\n",
    "fichier2=pd.read_excel('data/fichier2.xlsx')\n",
    "fichier3=pd.read_excel('data/fichier3.xlsx')"
   ],
   "id": "240043252e507534",
   "outputs": [],
   "execution_count": 3
  },
  {
   "metadata": {
    "ExecuteTime": {
     "end_time": "2024-11-13T13:18:45.409214Z",
     "start_time": "2024-11-13T13:18:45.383248Z"
    }
   },
   "cell_type": "code",
   "source": [
    "fichier1.drop(axis=0,inplace=True,index=0)\n",
    "fichier2.drop(axis=0,inplace=True,index=0)\n",
    "fichier2.drop(axis=0,inplace=True,index=1)\n",
    "fichier3.drop(axis=0,inplace=True,index=0)\n",
    "fichier3.drop(axis=0,inplace=True,index=1)"
   ],
   "id": "c92a60e657e8e6fd",
   "outputs": [],
   "execution_count": 4
  },
  {
   "metadata": {
    "ExecuteTime": {
     "end_time": "2024-11-13T13:18:46.103857Z",
     "start_time": "2024-11-13T13:18:46.070120Z"
    }
   },
   "cell_type": "code",
   "source": [
    "colonnesNotes=[['Baccalauréat.7','Baccalauréat.8'],['Baccalauréat.9','Baccalauréat.10'],['Baccalauréat.11','Baccalauréat.12']]\n",
    "matieresNotes=[\"Mathématiques\",\"Physique-chimie\"]\n",
    "res={}\n",
    "for m in matieresNotes:\n",
    "    res[m]=[]\n",
    "    for col in colonnesNotes:\n",
    "        nom=col[0]\n",
    "        note=col[1]\n",
    "        rows=fichier3[fichier3[col[0]]==m][col[1]]\n",
    "        for i in rows.index:\n",
    "            res[m].append([i,note])\n",
    "colMath='Baccalauréat.14'\n",
    "colPhys='Baccalauréat.15'\n",
    "for key in res.keys():\n",
    "    for couple in res[key]:\n",
    "        i=couple[0]\n",
    "        col=couple[1]\n",
    "        if key == \"Mathématiques\":\n",
    "            fichier3.loc[i,colMath]=fichier3.loc[i,col]\n",
    "        else:\n",
    "            fichier3.loc[i,colPhys]=fichier3.loc[i,col]"
   ],
   "id": "19f8263599bb0885",
   "outputs": [],
   "execution_count": 5
  },
  {
   "metadata": {
    "ExecuteTime": {
     "end_time": "2024-11-13T13:18:46.693660Z",
     "start_time": "2024-11-13T13:18:46.681819Z"
    }
   },
   "cell_type": "code",
   "source": "fichier3.drop(columns=[x for l in colonnesNotes for x in l ],inplace=True)",
   "id": "c1ad96f35a7f2cee",
   "outputs": [],
   "execution_count": 6
  },
  {
   "metadata": {
    "ExecuteTime": {
     "end_time": "2024-11-13T13:18:49.816760Z",
     "start_time": "2024-11-13T13:18:47.013331Z"
    }
   },
   "cell_type": "code",
   "source": "fichier3.to_excel(\"data/ANOM3.xlsx\")",
   "id": "3eaf6551ec353f01",
   "outputs": [],
   "execution_count": 7
  },
  {
   "metadata": {
    "ExecuteTime": {
     "end_time": "2024-11-13T13:18:49.828003Z",
     "start_time": "2024-11-13T13:18:49.822598Z"
    }
   },
   "cell_type": "code",
   "source": "fichiers=[fichier1,fichier2,fichier3]",
   "id": "86d3aef981605e99",
   "outputs": [],
   "execution_count": 8
  },
  {
   "metadata": {
    "ExecuteTime": {
     "end_time": "2024-11-13T13:18:50.113961Z",
     "start_time": "2024-11-13T13:18:49.878352Z"
    }
   },
   "cell_type": "code",
   "source": [
    "n=len(fichier1)+len(fichier2)+len(fichier3)\n",
    "hashMap={}\n",
    "\n",
    "for row in dictNettoyage.itertuples():\n",
    "    colFinal=row[1]\n",
    "    colFichier1=row[2]\n",
    "    colFichier2=row[3]\n",
    "    colFichier3=row[4]\n",
    "    if colFinal==\"0\":\n",
    "        continue\n",
    "    hashMap[colFinal]=[]\n",
    "    if colFichier1 in fichier1.columns:\n",
    "        hashMap[colFinal].append(fichier1[colFichier1].astype(str))\n",
    "    if not colFichier1 in fichier1.columns:\n",
    "        nan_arr=np.empty(len(fichier1))\n",
    "        nan_arr[:]=np.nan\n",
    "        hashMap[colFinal].append(nan_arr)\n",
    "    if colFichier2 in fichier2.columns:\n",
    "        hashMap[colFinal].append(fichier2[colFichier2].astype(str))\n",
    "    if not colFichier2 in fichier2.columns :\n",
    "        nan_arr=np.empty(len(fichier2))\n",
    "        nan_arr[:]=np.nan\n",
    "        hashMap[colFinal].append(nan_arr)\n",
    "    if colFichier3 in fichier3.columns:\n",
    "        hashMap[colFinal].append(fichier3[colFichier3].astype(str))\n",
    "    if not colFichier3 in fichier3.columns :\n",
    "        nan_arr=np.empty(len(fichier3))\n",
    "        nan_arr[:]=np.nan\n",
    "        hashMap[colFinal].append(nan_arr)\n",
    "    hashMap[colFinal]=[x for l in hashMap[colFinal] for x in l]\n",
    "    "
   ],
   "id": "3ff974ff0cf1306e",
   "outputs": [],
   "execution_count": 9
  },
  {
   "metadata": {
    "ExecuteTime": {
     "end_time": "2024-11-13T13:18:50.165101Z",
     "start_time": "2024-11-13T13:18:50.153001Z"
    }
   },
   "cell_type": "code",
   "source": [
    "def compterTypes(data):\n",
    "    allTypes={}\n",
    "    float_or_int_regex = r'^-?\\d+(\\.\\d+)?$'\n",
    "    bool_regex = r'^(True|False)$'\n",
    "    for col in data.keys():\n",
    "        keys=np.unique(data[col])\n",
    "        allTypes[col]=set()\n",
    "        for key in keys:\n",
    "            if key == 'nan' or key==\"nan\":\n",
    "                continue\n",
    "            if re.match(float_or_int_regex, str(key)):\n",
    "                allTypes[col].add(\"numeric\")\n",
    "            elif re.match(bool_regex, str(key)):\n",
    "                allTypes[col].add(\"bool\")\n",
    "            else :\n",
    "                allTypes[col].add(\"string\")\n",
    "    return allTypes"
   ],
   "id": "61a49d11307dd51a",
   "outputs": [],
   "execution_count": 10
  },
  {
   "metadata": {
    "ExecuteTime": {
     "end_time": "2024-11-13T13:18:50.253838Z",
     "start_time": "2024-11-13T13:18:50.239866Z"
    }
   },
   "cell_type": "code",
   "source": [
    "def compterAModifiers(data):\n",
    "    allTypes=compterTypes(data)\n",
    "    aModifier=[]\n",
    "    for key in allTypes.keys():\n",
    "        if len(allTypes[key])>1:\n",
    "            aModifier.append(key)\n",
    "    return aModifier"
   ],
   "id": "ceef57d71f30ed50",
   "outputs": [],
   "execution_count": 11
  },
  {
   "metadata": {
    "ExecuteTime": {
     "end_time": "2024-11-13T13:18:50.344744Z",
     "start_time": "2024-11-13T13:18:50.333884Z"
    }
   },
   "cell_type": "code",
   "source": [
    "def compterAIntervenir(data):\n",
    "    aModifier=compterAModifiers(data)\n",
    "    allTypes=compterTypes(data)\n",
    "    for key in aModifier:\n",
    "        if len(allTypes[key])>1 and allTypes[key]!={'string','numeric'}:\n",
    "            print(key,allTypes[key],np.unique(data[key]))"
   ],
   "id": "f4b23b9a4e0d47d0",
   "outputs": [],
   "execution_count": 12
  },
  {
   "metadata": {
    "ExecuteTime": {
     "end_time": "2024-11-13T13:18:51.973533Z",
     "start_time": "2024-11-13T13:18:51.175567Z"
    }
   },
   "cell_type": "code",
   "source": "compterAIntervenir(hashMap)",
   "id": "79090254766bfe9d",
   "outputs": [
    {
     "name": "stdout",
     "output_type": "stream",
     "text": [
      "Genre {'bool', 'string'} ['False' 'True' 'f' 'm' 'o']\n",
      "Experience_entreprise_1 {'bool', 'string'} ['False' 'OUI' 'True' 'nan' 'non' 'oui']\n",
      "Experience_entreprise_2 {'bool', 'string'} ['False' 'OUI' 'True' 'nan' 'non' 'oui']\n",
      "Experience_entreprise_3 {'bool', 'string'} ['False' 'OUI' 'True' 'nan' 'non' 'oui']\n"
     ]
    }
   ],
   "execution_count": 13
  },
  {
   "metadata": {
    "ExecuteTime": {
     "end_time": "2024-11-13T13:25:10.072282Z",
     "start_time": "2024-11-13T13:25:10.060577Z"
    }
   },
   "cell_type": "code",
   "source": [
    "listGenre=hashMap['Genre']\n",
    "for i in range(len(listGenre)):\n",
    "    if listGenre[i]=='True' or listGenre[i]=='m':\n",
    "        listGenre[i]=1\n",
    "    elif listGenre[i]=='False' or listGenre[i]=='f':\n",
    "        listGenre[i]=0\n",
    "    elif listGenre[i]=='o':\n",
    "        listGenre[i]=2\n",
    "hashMap['Genre']=listGenre"
   ],
   "id": "31be25a0deb8c738",
   "outputs": [],
   "execution_count": 23
  },
  {
   "metadata": {
    "ExecuteTime": {
     "end_time": "2024-11-13T13:25:12.238503Z",
     "start_time": "2024-11-13T13:25:11.592096Z"
    }
   },
   "cell_type": "code",
   "source": "compterAIntervenir(hashMap)",
   "id": "e3b9d088e86be4d9",
   "outputs": [],
   "execution_count": 24
  },
  {
   "metadata": {
    "ExecuteTime": {
     "end_time": "2024-11-13T13:25:14.495770Z",
     "start_time": "2024-11-13T13:25:14.489587Z"
    }
   },
   "cell_type": "code",
   "source": [
    "def reparerExperience(l):\n",
    "    n = len(l)\n",
    "    for i in range(n):\n",
    "        if l[i]=='OUI' or l[i]=='oui':\n",
    "            l[i]='True'\n",
    "        elif l[i]=='non':\n",
    "            l[i]='False'\n",
    "    return l"
   ],
   "id": "1362ea4f677c7c18",
   "outputs": [],
   "execution_count": 25
  },
  {
   "metadata": {
    "ExecuteTime": {
     "end_time": "2024-11-13T13:25:15.138640Z",
     "start_time": "2024-11-13T13:25:15.133104Z"
    }
   },
   "cell_type": "code",
   "source": [
    "colonnes=['Experience_entreprise_1','Experience_entreprise_2','Experience_entreprise_3']\n",
    "for col in colonnes:\n",
    "    hashMap[col]=reparerExperience(hashMap[col])"
   ],
   "id": "ccaf8d9e3010f339",
   "outputs": [],
   "execution_count": 26
  },
  {
   "metadata": {
    "ExecuteTime": {
     "end_time": "2024-11-13T13:25:16.545801Z",
     "start_time": "2024-11-13T13:25:15.774028Z"
    }
   },
   "cell_type": "code",
   "source": "compterAIntervenir(hashMap)",
   "id": "a42090e7ab0d088",
   "outputs": [],
   "execution_count": 27
  },
  {
   "metadata": {
    "ExecuteTime": {
     "end_time": "2024-11-13T13:33:30.551319Z",
     "start_time": "2024-11-13T13:33:30.309777Z"
    }
   },
   "cell_type": "code",
   "source": [
    "allTypes=compterTypes(hashMap)\n",
    "for key in allTypes.keys():\n",
    "    if allTypes[key]=={'bool'}:\n",
    "        hashMap[key]=[bool(x) for x in hashMap[key]]"
   ],
   "id": "8b9f8c5720be6235",
   "outputs": [],
   "execution_count": 38
  },
  {
   "metadata": {
    "ExecuteTime": {
     "end_time": "2024-11-13T13:35:48.277536Z",
     "start_time": "2024-11-13T13:35:48.034098Z"
    }
   },
   "cell_type": "code",
   "source": [
    "allTypes=compterTypes(hashMap)\n",
    "colonnesCorr=[]\n",
    "for key in allTypes.keys():\n",
    "    if allTypes[key]=={'bool'} or allTypes[key]=={'numeric'}:\n",
    "        colonnesCorr.append(key)"
   ],
   "id": "83b58edc314d42b8",
   "outputs": [],
   "execution_count": 44
  },
  {
   "metadata": {
    "ExecuteTime": {
     "end_time": "2024-11-13T13:47:03.137906Z",
     "start_time": "2024-11-13T13:46:59.180424Z"
    }
   },
   "cell_type": "code",
   "source": [
    "res={}\n",
    "for key in colonnesCorr:\n",
    "    res[key]=hashMap[key]\n",
    "dfTotal=pd.DataFrame(res)\n",
    "dfTotal.to_excel(\"data/DataTotal.xlsx\")"
   ],
   "id": "bbcc293edf746bb0",
   "outputs": [],
   "execution_count": 66
  },
  {
   "metadata": {
    "ExecuteTime": {
     "end_time": "2024-11-13T14:14:55.084655Z",
     "start_time": "2024-11-13T14:14:55.076085Z"
    }
   },
   "cell_type": "code",
   "source": [
    "#\n",
    "#sns.heatmap(matrix, cmap=\"Greens\", annot=True)"
   ],
   "id": "41ef2e127c7294f7",
   "outputs": [],
   "execution_count": 107
  },
  {
   "metadata": {
    "ExecuteTime": {
     "end_time": "2024-11-13T14:15:05.344388Z",
     "start_time": "2024-11-13T14:15:05.162923Z"
    }
   },
   "cell_type": "code",
   "source": [
    "matrix=dfTotal.corr()\n",
    "couplesCorr=[]\n",
    "cols=matrix.columns.tolist()\n",
    "colsCorr=set()\n",
    "for i in range(len(cols)):\n",
    "    for j in range(i,len(cols)):\n",
    "        if matrix.iloc[i,j]>=0.5 and i!=j:\n",
    "            couplesCorr.append([cols[i],cols[j]])\n",
    "            colsCorr.add(cols[i])\n",
    "            colsCorr.add(cols[j])"
   ],
   "id": "2198017f60aa4db1",
   "outputs": [],
   "execution_count": 108
  },
  {
   "metadata": {
    "ExecuteTime": {
     "end_time": "2024-11-13T14:14:45.935107Z",
     "start_time": "2024-11-13T14:14:45.927485Z"
    }
   },
   "cell_type": "code",
   "source": [
    "#corr=dfTotal[list(colsCorr)].corr()\n",
    "#sns.heatmap(corr, cmap=\"Greens\", annot=True)"
   ],
   "id": "fd9efbe4311ff62",
   "outputs": [],
   "execution_count": 106
  },
  {
   "metadata": {
    "ExecuteTime": {
     "end_time": "2024-11-13T14:03:20.808517Z",
     "start_time": "2024-11-13T14:03:20.801066Z"
    }
   },
   "cell_type": "code",
   "source": "",
   "id": "e0802391dcd94449",
   "outputs": [],
   "execution_count": null
  },
  {
   "metadata": {},
   "cell_type": "code",
   "outputs": [],
   "execution_count": null,
   "source": "",
   "id": "799fcc53feb5df"
  }
 ],
 "metadata": {
  "kernelspec": {
   "display_name": "Python 3",
   "language": "python",
   "name": "python3"
  },
  "language_info": {
   "codemirror_mode": {
    "name": "ipython",
    "version": 2
   },
   "file_extension": ".py",
   "mimetype": "text/x-python",
   "name": "python",
   "nbconvert_exporter": "python",
   "pygments_lexer": "ipython2",
   "version": "2.7.6"
  }
 },
 "nbformat": 4,
 "nbformat_minor": 5
}
